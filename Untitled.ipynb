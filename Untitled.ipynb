{
 "cells": [
  {
   "cell_type": "markdown",
   "id": "ac374d0b",
   "metadata": {},
   "source": [
    "# Calculando o Beta de um Ativo"
   ]
  },
  {
   "cell_type": "markdown",
   "id": "63dd1d25",
   "metadata": {},
   "source": [
    "## 1.0 Bibliotecas"
   ]
  },
  {
   "cell_type": "code",
   "execution_count": 1,
   "id": "08c8a792",
   "metadata": {},
   "outputs": [],
   "source": [
    "import yfinance           as yf\n",
    "import statsmodels.api    as sm\n",
    "from datetime             import timedelta \n",
    "from datetime             import datetime"
   ]
  },
  {
   "cell_type": "markdown",
   "id": "cf13000a",
   "metadata": {},
   "source": [
    "## 2.0 Selecionando o Ativo"
   ]
  },
  {
   "cell_type": "code",
   "execution_count": null,
   "id": "badfb571",
   "metadata": {},
   "outputs": [],
   "source": []
  },
  {
   "cell_type": "code",
   "execution_count": null,
   "id": "ecbae6dc",
   "metadata": {},
   "outputs": [],
   "source": []
  },
  {
   "cell_type": "code",
   "execution_count": null,
   "id": "74d3b221",
   "metadata": {},
   "outputs": [],
   "source": []
  }
 ],
 "metadata": {
  "kernelspec": {
   "display_name": "Python 3 (ipykernel)",
   "language": "python",
   "name": "python3"
  },
  "language_info": {
   "codemirror_mode": {
    "name": "ipython",
    "version": 3
   },
   "file_extension": ".py",
   "mimetype": "text/x-python",
   "name": "python",
   "nbconvert_exporter": "python",
   "pygments_lexer": "ipython3",
   "version": "3.10.9"
  }
 },
 "nbformat": 4,
 "nbformat_minor": 5
}
