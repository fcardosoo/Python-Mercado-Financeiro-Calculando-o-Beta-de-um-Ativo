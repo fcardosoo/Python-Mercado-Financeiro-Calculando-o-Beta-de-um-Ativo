{
 "cells": [
  {
   "cell_type": "markdown",
   "id": "63747f2f",
   "metadata": {},
   "source": [
    "# Calculando o Beta de um Ativo"
   ]
  },
  {
   "cell_type": "markdown",
   "id": "755333cd",
   "metadata": {},
   "source": [
    "## 1.0 Bibliotecas"
   ]
  },
  {
   "cell_type": "code",
   "execution_count": 1,
   "id": "7c05e399",
   "metadata": {},
   "outputs": [],
   "source": [
    "import yfinance           as yf\n",
    "import statsmodels.api    as sm\n",
    "from datetime             import timedelta \n",
    "from datetime             import datetime"
   ]
  },
  {
   "cell_type": "markdown",
   "id": "8d82bfef",
   "metadata": {},
   "source": [
    "## 2.0 Selecionando o Ativo"
   ]
  },
  {
   "cell_type": "code",
   "execution_count": 2,
   "id": "cb55e3b4",
   "metadata": {},
   "outputs": [
    {
     "name": "stdout",
     "output_type": "stream",
     "text": [
      "[*********************100%***********************]  4 of 4 completed\n"
     ]
    },
    {
     "data": {
      "text/html": [
       "<div>\n",
       "<style scoped>\n",
       "    .dataframe tbody tr th:only-of-type {\n",
       "        vertical-align: middle;\n",
       "    }\n",
       "\n",
       "    .dataframe tbody tr th {\n",
       "        vertical-align: top;\n",
       "    }\n",
       "\n",
       "    .dataframe thead th {\n",
       "        text-align: right;\n",
       "    }\n",
       "</style>\n",
       "<table border=\"1\" class=\"dataframe\">\n",
       "  <thead>\n",
       "    <tr style=\"text-align: right;\">\n",
       "      <th></th>\n",
       "      <th>BBAS3.SA</th>\n",
       "      <th>BBSE3.SA</th>\n",
       "      <th>PETR4.SA</th>\n",
       "      <th>^BVSP</th>\n",
       "    </tr>\n",
       "    <tr>\n",
       "      <th>Date</th>\n",
       "      <th></th>\n",
       "      <th></th>\n",
       "      <th></th>\n",
       "      <th></th>\n",
       "    </tr>\n",
       "  </thead>\n",
       "  <tbody>\n",
       "    <tr>\n",
       "      <th>2018-06-01</th>\n",
       "      <td>22.659044</td>\n",
       "      <td>17.403339</td>\n",
       "      <td>6.350525</td>\n",
       "      <td>77240.0</td>\n",
       "    </tr>\n",
       "    <tr>\n",
       "      <th>2018-06-04</th>\n",
       "      <td>22.984224</td>\n",
       "      <td>17.449411</td>\n",
       "      <td>6.888905</td>\n",
       "      <td>78596.0</td>\n",
       "    </tr>\n",
       "    <tr>\n",
       "      <th>2018-06-05</th>\n",
       "      <td>21.520912</td>\n",
       "      <td>16.784611</td>\n",
       "      <td>6.519506</td>\n",
       "      <td>76642.0</td>\n",
       "    </tr>\n",
       "    <tr>\n",
       "      <th>2018-06-06</th>\n",
       "      <td>20.456694</td>\n",
       "      <td>17.014988</td>\n",
       "      <td>6.417333</td>\n",
       "      <td>76117.0</td>\n",
       "    </tr>\n",
       "    <tr>\n",
       "      <th>2018-06-07</th>\n",
       "      <td>19.636353</td>\n",
       "      <td>16.626640</td>\n",
       "      <td>6.193335</td>\n",
       "      <td>73851.0</td>\n",
       "    </tr>\n",
       "    <tr>\n",
       "      <th>...</th>\n",
       "      <td>...</td>\n",
       "      <td>...</td>\n",
       "      <td>...</td>\n",
       "      <td>...</td>\n",
       "    </tr>\n",
       "    <tr>\n",
       "      <th>2023-05-24</th>\n",
       "      <td>44.610001</td>\n",
       "      <td>31.370001</td>\n",
       "      <td>26.650000</td>\n",
       "      <td>108800.0</td>\n",
       "    </tr>\n",
       "    <tr>\n",
       "      <th>2023-05-25</th>\n",
       "      <td>44.660000</td>\n",
       "      <td>31.809999</td>\n",
       "      <td>26.450001</td>\n",
       "      <td>110054.0</td>\n",
       "    </tr>\n",
       "    <tr>\n",
       "      <th>2023-05-26</th>\n",
       "      <td>44.400002</td>\n",
       "      <td>31.900000</td>\n",
       "      <td>26.799999</td>\n",
       "      <td>110906.0</td>\n",
       "    </tr>\n",
       "    <tr>\n",
       "      <th>2023-05-29</th>\n",
       "      <td>44.320000</td>\n",
       "      <td>32.090000</td>\n",
       "      <td>26.690001</td>\n",
       "      <td>110333.0</td>\n",
       "    </tr>\n",
       "    <tr>\n",
       "      <th>2023-05-30</th>\n",
       "      <td>44.700001</td>\n",
       "      <td>31.690001</td>\n",
       "      <td>26.389999</td>\n",
       "      <td>108967.0</td>\n",
       "    </tr>\n",
       "  </tbody>\n",
       "</table>\n",
       "<p>1238 rows × 4 columns</p>\n",
       "</div>"
      ],
      "text/plain": [
       "             BBAS3.SA   BBSE3.SA   PETR4.SA     ^BVSP\n",
       "Date                                                 \n",
       "2018-06-01  22.659044  17.403339   6.350525   77240.0\n",
       "2018-06-04  22.984224  17.449411   6.888905   78596.0\n",
       "2018-06-05  21.520912  16.784611   6.519506   76642.0\n",
       "2018-06-06  20.456694  17.014988   6.417333   76117.0\n",
       "2018-06-07  19.636353  16.626640   6.193335   73851.0\n",
       "...               ...        ...        ...       ...\n",
       "2023-05-24  44.610001  31.370001  26.650000  108800.0\n",
       "2023-05-25  44.660000  31.809999  26.450001  110054.0\n",
       "2023-05-26  44.400002  31.900000  26.799999  110906.0\n",
       "2023-05-29  44.320000  32.090000  26.690001  110333.0\n",
       "2023-05-30  44.700001  31.690001  26.389999  108967.0\n",
       "\n",
       "[1238 rows x 4 columns]"
      ]
     },
     "execution_count": 2,
     "metadata": {},
     "output_type": "execute_result"
    }
   ],
   "source": [
    "# Lista de ativos\n",
    "ativos = [\"PETR4.SA\", \"BBAS3.SA\", \"BBSE3.SA\", \"^BVSP\"]\n",
    "\n",
    "# Selecionando a data atual\n",
    "data = datetime.now()\n",
    "\n",
    "# Buscar o histórico de 5 anos\n",
    "cinco_anos_passado = data - timedelta(days = (365 * 5))\n",
    "\n",
    "# Buscando os dados de fechamento do dia das cotações, selecionando o valor Ajustado 'Adj' \n",
    "dados_cotacoes = yf.download(ativos, cinco_anos_passado, data)['Adj Close']\n",
    "\n",
    "dados_cotacoes"
   ]
  },
  {
   "cell_type": "markdown",
   "id": "9034f862",
   "metadata": {},
   "source": [
    "## 3.0 Caculando os retornos diários"
   ]
  },
  {
   "cell_type": "code",
   "execution_count": null,
   "id": "a7ae0a4a",
   "metadata": {},
   "outputs": [],
   "source": [
    "# Calculando a variação percentual da\n",
    "retornos_diarios = dados_cotacoes.pct_change().dropna()"
   ]
  }
 ],
 "metadata": {
  "kernelspec": {
   "display_name": "Python 3 (ipykernel)",
   "language": "python",
   "name": "python3"
  },
  "language_info": {
   "codemirror_mode": {
    "name": "ipython",
    "version": 3
   },
   "file_extension": ".py",
   "mimetype": "text/x-python",
   "name": "python",
   "nbconvert_exporter": "python",
   "pygments_lexer": "ipython3",
   "version": "3.10.9"
  }
 },
 "nbformat": 4,
 "nbformat_minor": 5
}
